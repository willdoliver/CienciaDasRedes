{
 "cells": [
  {
   "cell_type": "markdown",
   "metadata": {},
   "source": [
    "## Demonstração - Pytorch"
   ]
  },
  {
   "cell_type": "markdown",
   "metadata": {},
   "source": [
    "### Tensors"
   ]
  },
  {
   "cell_type": "code",
   "execution_count": 2,
   "metadata": {},
   "outputs": [
    {
     "name": "stdout",
     "output_type": "stream",
     "text": [
      "tensor([[1, 2],\n",
      "        [3, 4]])\n",
      "tensor([[1, 2],\n",
      "        [3, 4]])\n"
     ]
    }
   ],
   "source": [
    "import torch\n",
    "import numpy as np\n",
    "\n",
    "#Inicialização diretamente com dados - tipo inferido automaticamente\n",
    "data = [[1, 2],[3, 4]]\n",
    "x_data = torch.tensor(data)\n",
    "print(x_data)\n",
    "\n",
    "#Inicialização de um NumPy array\n",
    "np_array = np.array(data)\n",
    "x_np = torch.from_numpy(np_array)\n",
    "\n",
    "print(x_np)"
   ]
  },
  {
   "cell_type": "code",
   "execution_count": 3,
   "metadata": {},
   "outputs": [
    {
     "data": {
      "text/plain": [
       "tensor([[1., 1., 1.],\n",
       "        [1., 1., 1.]])"
      ]
     },
     "execution_count": 3,
     "metadata": {},
     "output_type": "execute_result"
    }
   ],
   "source": [
    "#Cria tensor com shape específico e com valores 1.\n",
    "#Shape (2, 3)\n",
    "ones_tensor = torch.ones(2,3)\n",
    "ones_tensor"
   ]
  },
  {
   "cell_type": "code",
   "execution_count": 4,
   "metadata": {},
   "outputs": [
    {
     "data": {
      "text/plain": [
       "tensor([[0., 0., 0., 0., 0.],\n",
       "        [0., 0., 0., 0., 0.],\n",
       "        [0., 0., 0., 0., 0.]])"
      ]
     },
     "execution_count": 4,
     "metadata": {},
     "output_type": "execute_result"
    }
   ],
   "source": [
    "#Cria tensor com shape específico e com valores 0.\n",
    "#Shape (3, 5)\n",
    "zeros_tensor = torch.zeros(3,5)\n",
    "zeros_tensor"
   ]
  },
  {
   "cell_type": "code",
   "execution_count": 5,
   "metadata": {},
   "outputs": [
    {
     "name": "stdout",
     "output_type": "stream",
     "text": [
      "tensor([[ 0.6514,  0.5490, -1.1878],\n",
      "        [-0.0483,  0.0965, -1.1458],\n",
      "        [-2.0414,  0.0866,  1.2496],\n",
      "        [-0.2292, -0.2232, -0.3304],\n",
      "        [ 0.4538, -1.4553, -0.8975],\n",
      "        [ 0.0118,  0.9182, -0.1548],\n",
      "        [ 1.3575,  0.1637,  2.6603],\n",
      "        [-0.5165, -1.5769, -0.6754],\n",
      "        [ 0.0937,  0.1895, -0.4054],\n",
      "        [ 0.9114, -0.8429, -0.4630]])\n",
      "tensor([[-0.5143, -1.5079],\n",
      "        [-0.1336, -1.3088],\n",
      "        [ 0.3561,  0.3396],\n",
      "        [-0.8006,  0.4334],\n",
      "        [-0.2064, -1.0392],\n",
      "        [ 0.6783,  0.1201],\n",
      "        [-0.3587, -0.4145],\n",
      "        [ 1.5335, -0.5212],\n",
      "        [ 0.0656,  0.8821],\n",
      "        [ 0.5137,  1.9258]])\n"
     ]
    }
   ],
   "source": [
    "# Cria tensor com shape específico e com valores aleaórios.\n",
    "\n",
    "#Shape (10, 3)\n",
    "x = torch.randn(10, 3)\n",
    "print(x)\n",
    "\n",
    "#Shape(10, 2)\n",
    "y = torch.randn(10, 2)\n",
    "print(y)\n"
   ]
  },
  {
   "cell_type": "code",
   "execution_count": 6,
   "metadata": {},
   "outputs": [
    {
     "name": "stdout",
     "output_type": "stream",
     "text": [
      "Shape do tensor: torch.Size([10, 3])\n",
      "Datatype do tensor: torch.float32\n",
      "Dispositivo onde o tensor está armazenado: cpu\n"
     ]
    }
   ],
   "source": [
    "#Atributos de um tensor\n",
    "\n",
    "print(f\"Shape do tensor: {x.shape}\")\n",
    "print(f\"Datatype do tensor: {x.dtype}\")\n",
    "print(f\"Dispositivo onde o tensor está armazenado: {x.device}\")"
   ]
  },
  {
   "cell_type": "code",
   "execution_count": 12,
   "metadata": {},
   "outputs": [
    {
     "name": "stdout",
     "output_type": "stream",
     "text": [
      "Dispositivo onde o tensor está armazenado: cpu\n"
     ]
    }
   ],
   "source": [
    "# Movendo o tensor para a GPU se disponível \n",
    "if torch.cuda.is_available():\n",
    "    x = x.to('cuda')\n",
    "\n",
    "print(f\"Dispositivo onde o tensor está armazenado: {x.device}\")"
   ]
  },
  {
   "cell_type": "markdown",
   "metadata": {},
   "source": [
    "### Manipulação de tensor \n",
    "\n",
    "As operações são similares a um Np-array\n"
   ]
  },
  {
   "cell_type": "code",
   "execution_count": 13,
   "metadata": {},
   "outputs": [
    {
     "name": "stdout",
     "output_type": "stream",
     "text": [
      "Primeira linha:  tensor([ 0.6514,  0.5490, -1.1878])\n",
      "Primeira coluna:  tensor([ 0.6514, -0.0483, -2.0414, -0.2292,  0.4538,  0.0118,  1.3575, -0.5165,\n",
      "         0.0937,  0.9114])\n",
      "Ultima coluna: tensor([-1.1878, -1.1458,  1.2496, -0.3304, -0.8975, -0.1548,  2.6603, -0.6754,\n",
      "        -0.4054, -0.4630])\n",
      "tensor([[ 0.6514,  0.5490, -1.1878],\n",
      "        [-0.0483,  0.0965, -1.1458],\n",
      "        [-2.0414,  0.0866,  1.2496],\n",
      "        [-0.2292, -0.2232, -0.3304],\n",
      "        [ 0.4538, -1.4553, -0.8975],\n",
      "        [ 0.0118,  0.9182, -0.1548],\n",
      "        [ 1.3575,  0.1637,  2.6603],\n",
      "        [-0.5165, -1.5769, -0.6754],\n",
      "        [ 0.0937,  0.1895, -0.4054],\n",
      "        [ 0.9114, -0.8429, -0.4630]])\n"
     ]
    }
   ],
   "source": [
    "print('Primeira linha: ', x[0])\n",
    "print('Primeira coluna: ', x[:, 0])\n",
    "print('Ultima coluna:', x[:, -1])\n",
    "\n",
    "print(x)"
   ]
  },
  {
   "cell_type": "markdown",
   "metadata": {},
   "source": [
    "## Criando modelos"
   ]
  },
  {
   "cell_type": "markdown",
   "metadata": {},
   "source": [
    "Para definir uma rede neural em PyTorch, criamos uma classe que herda de nn.Module. Definimos as camadas da rede na função __init__ e especificamos como os dados passarão pela rede na função forward. <br>\n",
    "\n",
    "Para acelerar as operações na rede neural, nós a movemos para a GPU, se disponível."
   ]
  },
  {
   "cell_type": "code",
   "execution_count": 17,
   "metadata": {},
   "outputs": [
    {
     "name": "stdout",
     "output_type": "stream",
     "text": [
      "w:  Parameter containing:\n",
      "tensor([[-0.2062,  0.4510, -0.2876],\n",
      "        [-0.5043, -0.3405,  0.3996]], requires_grad=True)\n",
      "b:  Parameter containing:\n",
      "tensor([0.3599, 0.2842], requires_grad=True)\n"
     ]
    }
   ],
   "source": [
    "from torch import nn\n",
    "\n",
    "# Construi uma camada fully connected\n",
    "#torch.nn.Linear(in_features, out_features, bias=True, device=None, dtype=None)\n",
    "linear = nn.Linear(3, 2)\n",
    "\n",
    "print ('w: ', linear.weight)\n",
    "print ('b: ', linear.bias)"
   ]
  },
  {
   "cell_type": "code",
   "execution_count": 18,
   "metadata": {},
   "outputs": [
    {
     "name": "stdout",
     "output_type": "stream",
     "text": [
      "Usando cpu\n"
     ]
    }
   ],
   "source": [
    "# Pega a GPU ou CPU para treinamento.\n",
    "device = \"cuda\" if torch.cuda.is_available() else \"cpu\"\n",
    "\n",
    "print(\"Usando {}\".format(device))"
   ]
  },
  {
   "cell_type": "code",
   "execution_count": 20,
   "metadata": {},
   "outputs": [
    {
     "name": "stdout",
     "output_type": "stream",
     "text": [
      "tensor([[ 0.6514,  0.5490, -1.1878],\n",
      "        [-0.0483,  0.0965, -1.1458],\n",
      "        [-2.0414,  0.0866,  1.2496],\n",
      "        [-0.2292, -0.2232, -0.3304],\n",
      "        [ 0.4538, -1.4553, -0.8975],\n",
      "        [ 0.0118,  0.9182, -0.1548],\n",
      "        [ 1.3575,  0.1637,  2.6603],\n",
      "        [-0.5165, -1.5769, -0.6754],\n",
      "        [ 0.0937,  0.1895, -0.4054],\n",
      "        [ 0.9114, -0.8429, -0.4630]])\n"
     ]
    }
   ],
   "source": [
    "linear = linear.to(device)\n",
    "print(x)\n",
    "#Operação - Forward.\n",
    "pred = linear(x.to(device))"
   ]
  },
  {
   "cell_type": "code",
   "execution_count": 11,
   "metadata": {},
   "outputs": [],
   "source": [
    "# Constroi a função de perda e otimização \n",
    "criterion = nn.MSELoss()\n",
    "optimizer = torch.optim.Adam(linear.parameters(), lr=0.01)\n"
   ]
  },
  {
   "cell_type": "code",
   "execution_count": 13,
   "metadata": {},
   "outputs": [
    {
     "name": "stdout",
     "output_type": "stream",
     "text": [
      "Perda:  0.8549615740776062\n",
      "Perda depois de 1 passo de otimização :  0.8331798911094666\n",
      "Perda depois de 2 passos de otimização :  0.811942994594574\n"
     ]
    }
   ],
   "source": [
    "#Manda o y para a gpu\n",
    "y = y.to(device)\n",
    "\n",
    "# Computa a perda.\n",
    "loss = criterion(pred, y)\n",
    "print('Perda: ', loss.item())\n",
    "\n",
    "# Procedimento de Backward.\n",
    "loss.backward()\n",
    "\n",
    "# 1-passo do 'gradient descent'.\n",
    "optimizer.step()\n",
    "\n",
    "# Imprime a perda depois de 1 passo do gradient descent.\n",
    "pred = linear(x)\n",
    "loss = criterion(pred, y)\n",
    "print('Perda depois de 1 passo de otimização : ', loss.item())\n",
    "\n",
    "#Mais um passo\n",
    "loss.backward()\n",
    "optimizer.step()\n",
    "\n",
    "# Imprime a perda depois de 2 passos do gradient descent.\n",
    "pred = linear(x)\n",
    "loss = criterion(pred, y)\n",
    "print('Perda depois de 2 passos de otimização : ', loss.item())"
   ]
  },
  {
   "cell_type": "markdown",
   "metadata": {},
   "source": [
    "### Um exemplo um pouco mais completo"
   ]
  },
  {
   "cell_type": "code",
   "execution_count": 47,
   "metadata": {},
   "outputs": [
    {
     "name": "stdout",
     "output_type": "stream",
     "text": [
      "torch.Size([200])\n",
      "torch.Size([200, 3])\n",
      "torch.Size([180, 3])\n",
      "torch.Size([180])\n"
     ]
    }
   ],
   "source": [
    "import pandas as pd\n",
    "from sklearn.model_selection import train_test_split\n",
    "\n",
    "dfPropaganda = pd.read_csv('Advertising.csv')\n",
    "\n",
    "\n",
    "y= dfPropaganda['Sales']\n",
    "X = dfPropaganda.iloc[:,[1,2,3]]\n",
    "\n",
    "y_tensor = torch.tensor(y)\n",
    "X_tensor = torch.tensor(X.to_numpy())\n",
    "print(y_tensor.shape)\n",
    "print(X_tensor.shape)\n",
    "\n",
    "X_treino, X_teste, y_treino, y_teste = train_test_split(X_tensor, y_tensor, test_size = 0.10, random_state=5)\n",
    "\n",
    "print(X_treino.shape)\n",
    "print(y_treino.shape)\n",
    "\n",
    "X_treino = X_treino.float().to(device)\n",
    "y_treino = y_treino.float().to(device)\n",
    "\n",
    "X_teste = X_teste.float().to(device)\n",
    "y_teste = y_teste.float().to(device)"
   ]
  },
  {
   "cell_type": "markdown",
   "metadata": {},
   "source": [
    "### Implementa uma classe com o modelo"
   ]
  },
  {
   "cell_type": "markdown",
   "metadata": {},
   "source": [
    "Para definir uma rede neural em PyTorch, criamos uma classe que herda de nn.Module. Definimos as camadas da rede na função __init__ e especificamos como os dados passarão pela rede na função forward. <br>\n"
   ]
  },
  {
   "cell_type": "code",
   "execution_count": 60,
   "metadata": {},
   "outputs": [],
   "source": [
    "class Feedforward(torch.nn.Module):\n",
    "    \n",
    "        def __init__(self, input_size, hidden_size):\n",
    "            super(Feedforward, self).__init__()\n",
    "            \n",
    "            self.input_size = input_size\n",
    "            self.hidden_size  = hidden_size\n",
    "            self.fc1 = torch.nn.Linear(self.input_size, self.hidden_size)\n",
    "            self.fc2 = torch.nn.Linear(self.hidden_size, self.hidden_size)\n",
    "            self.fc3 = torch.nn.Linear(self.hidden_size, self.hidden_size)\n",
    "            self.fc4 = torch.nn.Linear(self.hidden_size, 1)\n",
    "            \n",
    "            self.relu = torch.nn.ReLU()\n",
    "            \n",
    "            \n",
    "        def forward(self, x):\n",
    "            output = self.fc1(x)\n",
    "            output = self.relu(output)\n",
    "            \n",
    "            output = self.fc2(output)\n",
    "            output = self.relu(output)\n",
    "            \n",
    "            output = self.fc3(output)\n",
    "            output = self.relu(output)\n",
    "            \n",
    "            output = self.fc4(output)\n",
    "\n",
    "            return output"
   ]
  },
  {
   "cell_type": "markdown",
   "metadata": {},
   "source": [
    "### Modelo e critério de otimização\n",
    "Para acelerar as operações na rede neural, nós a movemos para a GPU, se disponível."
   ]
  },
  {
   "cell_type": "code",
   "execution_count": 66,
   "metadata": {},
   "outputs": [
    {
     "name": "stdout",
     "output_type": "stream",
     "text": [
      "Feedforward(\n",
      "  (fc1): Linear(in_features=3, out_features=10, bias=True)\n",
      "  (fc2): Linear(in_features=10, out_features=10, bias=True)\n",
      "  (fc3): Linear(in_features=10, out_features=10, bias=True)\n",
      "  (fc4): Linear(in_features=10, out_features=1, bias=True)\n",
      "  (relu): ReLU()\n",
      ")\n"
     ]
    }
   ],
   "source": [
    "#input = 3 (número de features), e hidden size = 10 (número de neurôneos na camada escondida)\n",
    "model = Feedforward(3, 10).to(device)\n",
    "print(model)\n",
    "criterion = torch.nn.MSELoss()\n",
    "\n",
    "optimizer = torch.optim.Adam(model.parameters(), lr = 0.001)"
   ]
  },
  {
   "cell_type": "markdown",
   "metadata": {},
   "source": [
    "### Treino e teste do modelo"
   ]
  },
  {
   "cell_type": "code",
   "execution_count": 67,
   "metadata": {},
   "outputs": [
    {
     "name": "stdout",
     "output_type": "stream",
     "text": [
      "Teste - perda antes do treinamento 219.494873046875\n",
      "Epoch 0: perda treino: 222.99696350097656\n",
      "Epoch 1: perda treino: 222.568115234375\n",
      "Epoch 2: perda treino: 222.12937927246094\n",
      "Epoch 3: perda treino: 221.6784210205078\n",
      "Epoch 4: perda treino: 221.21725463867188\n",
      "Epoch 5: perda treino: 220.73965454101562\n",
      "Epoch 6: perda treino: 220.2469940185547\n",
      "Epoch 7: perda treino: 219.7390899658203\n",
      "Epoch 8: perda treino: 219.21258544921875\n",
      "Epoch 9: perda treino: 218.67332458496094\n",
      "Epoch 10: perda treino: 218.1186065673828\n",
      "Epoch 11: perda treino: 217.5505828857422\n",
      "Epoch 12: perda treino: 216.96844482421875\n",
      "Epoch 13: perda treino: 216.3680877685547\n",
      "Epoch 14: perda treino: 215.74798583984375\n",
      "Epoch 15: perda treino: 215.10577392578125\n",
      "Epoch 16: perda treino: 214.43728637695312\n",
      "Epoch 17: perda treino: 213.73886108398438\n",
      "Epoch 18: perda treino: 213.0084228515625\n",
      "Epoch 19: perda treino: 212.24267578125\n",
      "Epoch 20: perda treino: 211.4459991455078\n",
      "Epoch 21: perda treino: 210.6256103515625\n",
      "Epoch 22: perda treino: 209.77474975585938\n",
      "Epoch 23: perda treino: 208.89215087890625\n",
      "Epoch 24: perda treino: 207.9831085205078\n",
      "Epoch 25: perda treino: 207.0472869873047\n",
      "Epoch 26: perda treino: 206.08163452148438\n",
      "Epoch 27: perda treino: 205.08724975585938\n",
      "Epoch 28: perda treino: 204.06398010253906\n",
      "Epoch 29: perda treino: 203.0117645263672\n",
      "Epoch 30: perda treino: 201.92897033691406\n",
      "Epoch 31: perda treino: 200.81463623046875\n",
      "Epoch 32: perda treino: 199.66822814941406\n",
      "Epoch 33: perda treino: 198.48892211914062\n",
      "Epoch 34: perda treino: 197.27565002441406\n",
      "Epoch 35: perda treino: 196.02745056152344\n",
      "Epoch 36: perda treino: 194.74261474609375\n",
      "Epoch 37: perda treino: 193.4185791015625\n",
      "Epoch 38: perda treino: 192.053955078125\n",
      "Epoch 39: perda treino: 190.6449737548828\n",
      "Epoch 40: perda treino: 189.19342041015625\n",
      "Epoch 41: perda treino: 187.7010955810547\n",
      "Epoch 42: perda treino: 186.1667022705078\n",
      "Epoch 43: perda treino: 184.5876922607422\n",
      "Epoch 44: perda treino: 182.96205139160156\n",
      "Epoch 45: perda treino: 181.29209899902344\n",
      "Epoch 46: perda treino: 179.5769805908203\n",
      "Epoch 47: perda treino: 177.81576538085938\n",
      "Epoch 48: perda treino: 176.00820922851562\n",
      "Epoch 49: perda treino: 174.15484619140625\n",
      "Epoch 50: perda treino: 172.25086975097656\n",
      "Epoch 51: perda treino: 170.2952423095703\n",
      "Epoch 52: perda treino: 168.28846740722656\n",
      "Epoch 53: perda treino: 166.2291259765625\n",
      "Epoch 54: perda treino: 164.1190185546875\n",
      "Epoch 55: perda treino: 161.95989990234375\n",
      "Epoch 56: perda treino: 159.75253295898438\n",
      "Epoch 57: perda treino: 157.4970703125\n",
      "Epoch 58: perda treino: 155.18844604492188\n",
      "Epoch 59: perda treino: 152.8270721435547\n",
      "Epoch 60: perda treino: 150.41787719726562\n",
      "Epoch 61: perda treino: 147.9578094482422\n",
      "Epoch 62: perda treino: 145.4493865966797\n",
      "Epoch 63: perda treino: 142.89596557617188\n",
      "Epoch 64: perda treino: 140.29173278808594\n",
      "Epoch 65: perda treino: 137.64588928222656\n",
      "Epoch 66: perda treino: 134.9549560546875\n",
      "Epoch 67: perda treino: 132.22152709960938\n",
      "Epoch 68: perda treino: 129.4515380859375\n",
      "Epoch 69: perda treino: 126.64671325683594\n",
      "Epoch 70: perda treino: 123.81568145751953\n",
      "Epoch 71: perda treino: 120.96018981933594\n",
      "Epoch 72: perda treino: 118.08220672607422\n",
      "Epoch 73: perda treino: 115.1871337890625\n",
      "Epoch 74: perda treino: 112.27925872802734\n",
      "Epoch 75: perda treino: 109.36084747314453\n",
      "Epoch 76: perda treino: 106.43854522705078\n",
      "Epoch 77: perda treino: 103.51728820800781\n",
      "Epoch 78: perda treino: 100.607177734375\n",
      "Epoch 79: perda treino: 97.70657348632812\n",
      "Epoch 80: perda treino: 94.82381439208984\n",
      "Epoch 81: perda treino: 91.97555541992188\n",
      "Epoch 82: perda treino: 89.1728286743164\n",
      "Epoch 83: perda treino: 86.42001342773438\n",
      "Epoch 84: perda treino: 83.72736358642578\n",
      "Epoch 85: perda treino: 81.1129150390625\n",
      "Epoch 86: perda treino: 78.58421325683594\n",
      "Epoch 87: perda treino: 76.1485366821289\n",
      "Epoch 88: perda treino: 73.81536102294922\n",
      "Epoch 89: perda treino: 71.59868621826172\n",
      "Epoch 90: perda treino: 69.50579071044922\n",
      "Epoch 91: perda treino: 67.55149841308594\n",
      "Epoch 92: perda treino: 65.7460708618164\n",
      "Epoch 93: perda treino: 64.08795928955078\n",
      "Epoch 94: perda treino: 62.59031295776367\n",
      "Epoch 95: perda treino: 61.25762939453125\n",
      "Epoch 96: perda treino: 60.08613586425781\n",
      "Epoch 97: perda treino: 59.075138092041016\n",
      "Epoch 98: perda treino: 58.21393585205078\n",
      "Epoch 99: perda treino: 57.497337341308594\n",
      "Teste - perda depois do treinamento 47.3080940246582\n"
     ]
    }
   ],
   "source": [
    "model.eval()\n",
    "y_pred = model(X_teste)\n",
    "antes_treino = criterion(y_pred, y_teste) \n",
    "print('Teste - perda antes do treinamento' , antes_treino.item())\n",
    "\n",
    "model.train()\n",
    "epoch = 100\n",
    "\n",
    "for epoch in range(epoch):\n",
    "    optimizer.zero_grad()\n",
    "    \n",
    "    # Passe Forward\n",
    "    y_pred = model(X_treino)\n",
    "    \n",
    "    # Computa a perda\n",
    "    loss = criterion(y_pred, y_treino)\n",
    "    \n",
    "    print('Epoch {}: perda treino: {}'.format(epoch, loss.item()))\n",
    "    \n",
    "    # Passe de Backward\n",
    "    loss.backward()\n",
    "    optimizer.step()\n",
    "\n",
    "    \n",
    "model.eval()\n",
    "y_pred = model(X_teste)\n",
    "after_train = criterion(y_pred, y_teste) \n",
    "print('Teste - perda depois do treinamento' , after_train.item())    \n"
   ]
  },
  {
   "cell_type": "code",
   "execution_count": null,
   "metadata": {},
   "outputs": [],
   "source": []
  },
  {
   "cell_type": "code",
   "execution_count": null,
   "metadata": {},
   "outputs": [],
   "source": []
  },
  {
   "cell_type": "code",
   "execution_count": null,
   "metadata": {},
   "outputs": [],
   "source": []
  }
 ],
 "metadata": {
  "interpreter": {
   "hash": "aee8b7b246df8f9039afb4144a1f6fd8d2ca17a180786b69acc140d282b71a49"
  },
  "kernelspec": {
   "display_name": "Python 3 (ipykernel)",
   "language": "python",
   "name": "python3"
  },
  "language_info": {
   "codemirror_mode": {
    "name": "ipython",
    "version": 3
   },
   "file_extension": ".py",
   "mimetype": "text/x-python",
   "name": "python",
   "nbconvert_exporter": "python",
   "pygments_lexer": "ipython3",
   "version": "3.9.6"
  }
 },
 "nbformat": 4,
 "nbformat_minor": 4
}
