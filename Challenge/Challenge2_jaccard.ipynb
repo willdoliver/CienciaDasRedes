{
 "cells": [
  {
   "cell_type": "code",
   "execution_count": 1,
   "metadata": {},
   "outputs": [],
   "source": [
    "import numpy as np\n",
    "import pandas as pd\n",
    "import random\n",
    "import networkx as nx\n",
    "from IPython.display import Image\n",
    "import matplotlib.pyplot as plt\n",
    "from sklearn.metrics import roc_auc_score\n",
    "from sklearn import metrics"
   ]
  },
  {
   "cell_type": "code",
   "execution_count": 2,
   "metadata": {},
   "outputs": [],
   "source": [
    "GMissingEdges = nx.read_gml(\"GraphMissingEdges.gml\")\n",
    "\n",
    "# pos = nx.spring_layout(GMissingEdges)\n",
    "# # nx.draw(GMissingEdges, cmap = plt.get_cmap('rainbow'), with_labels=True, pos=pos)\n",
    "\n",
    "# n = GMissingEdges.number_of_nodes()\n",
    "# m = GMissingEdges.number_of_edges()\n",
    "# print(\"Number of nodes : %d\" % n)\n",
    "# print(\"Number of edges : %d\" % m)\n",
    "# print(\"Number of connected components : %d\" % nx.number_connected_components(GMissingEdges))"
   ]
  },
  {
   "cell_type": "code",
   "execution_count": 3,
   "metadata": {},
   "outputs": [],
   "source": [
    "# Remove 20% das arestas\n",
    "proportion_edges = 0.2\n",
    "edge_subset = random.sample(GMissingEdges.edges(), int(proportion_edges * GMissingEdges.number_of_edges()))\n",
    "\n",
    "# Cria uma cópia do grafo e remove arestas\n",
    "GMissingEdgesTrain = GMissingEdges.copy()\n",
    "GMissingEdgesTrain.remove_edges_from(edge_subset)\n",
    "# print(edge_subset)"
   ]
  },
  {
   "cell_type": "code",
   "execution_count": 4,
   "metadata": {},
   "outputs": [
    {
     "data": {
      "text/html": [
       "<div>\n",
       "<style scoped>\n",
       "    .dataframe tbody tr th:only-of-type {\n",
       "        vertical-align: middle;\n",
       "    }\n",
       "\n",
       "    .dataframe tbody tr th {\n",
       "        vertical-align: top;\n",
       "    }\n",
       "\n",
       "    .dataframe thead th {\n",
       "        text-align: right;\n",
       "    }\n",
       "</style>\n",
       "<table border=\"1\" class=\"dataframe\">\n",
       "  <thead>\n",
       "    <tr style=\"text-align: right;\">\n",
       "      <th></th>\n",
       "      <th>venue1</th>\n",
       "      <th>venue2</th>\n",
       "    </tr>\n",
       "  </thead>\n",
       "  <tbody>\n",
       "    <tr>\n",
       "      <th>0</th>\n",
       "      <td>t4PZ3r2eTPeDXWNiV4Cr0g</td>\n",
       "      <td>UfNTlvEJCOQ7XDRj0LzEtQ</td>\n",
       "    </tr>\n",
       "    <tr>\n",
       "      <th>1</th>\n",
       "      <td>Qzbcq82RJKIcAl0HSoSBJQ</td>\n",
       "      <td>snw9iNNLpFYZeHotW00uVA</td>\n",
       "    </tr>\n",
       "    <tr>\n",
       "      <th>2</th>\n",
       "      <td>sjxNnjKwWn7H6QcsAhhXww</td>\n",
       "      <td>nk9lP-iXi7xklwN3VYf6Ew</td>\n",
       "    </tr>\n",
       "    <tr>\n",
       "      <th>3</th>\n",
       "      <td>4twpbw7n4DmsLxAm6-sMkg</td>\n",
       "      <td>NEYMAeK1BeR2E_vELnEIDA</td>\n",
       "    </tr>\n",
       "    <tr>\n",
       "      <th>4</th>\n",
       "      <td>aEZ_EoArhpjV2p0q5MXFMA</td>\n",
       "      <td>Nq0UHjD_cKW9UbIJplQf_g</td>\n",
       "    </tr>\n",
       "    <tr>\n",
       "      <th>...</th>\n",
       "      <td>...</td>\n",
       "      <td>...</td>\n",
       "    </tr>\n",
       "    <tr>\n",
       "      <th>10593</th>\n",
       "      <td>6f2imTsIysASgHh2t91OOQ</td>\n",
       "      <td>Jcyu0ml7rxizEA8giSH-8A</td>\n",
       "    </tr>\n",
       "    <tr>\n",
       "      <th>10594</th>\n",
       "      <td>lVTn2NO9-FGfxKjfleZUqw</td>\n",
       "      <td>rHKxy2FwlE8xxK9XOpigtQ</td>\n",
       "    </tr>\n",
       "    <tr>\n",
       "      <th>10595</th>\n",
       "      <td>5m2JukTajxMk-qS5W4s-FA</td>\n",
       "      <td>QWWg3mbz1VkBjfPr0gLRsQ</td>\n",
       "    </tr>\n",
       "    <tr>\n",
       "      <th>10596</th>\n",
       "      <td>Fgje0saJKZkCByBMj4SlhA</td>\n",
       "      <td>2lCjKqGK2s4FrJVPjJK1fg</td>\n",
       "    </tr>\n",
       "    <tr>\n",
       "      <th>10597</th>\n",
       "      <td>FyUcIAn8timIFybYpOLbAw</td>\n",
       "      <td>B3GIFj4AzX2JG0XtrtNjVg</td>\n",
       "    </tr>\n",
       "  </tbody>\n",
       "</table>\n",
       "<p>10598 rows × 2 columns</p>\n",
       "</div>"
      ],
      "text/plain": [
       "                       venue1                  venue2\n",
       "0      t4PZ3r2eTPeDXWNiV4Cr0g  UfNTlvEJCOQ7XDRj0LzEtQ\n",
       "1      Qzbcq82RJKIcAl0HSoSBJQ  snw9iNNLpFYZeHotW00uVA\n",
       "2      sjxNnjKwWn7H6QcsAhhXww  nk9lP-iXi7xklwN3VYf6Ew\n",
       "3      4twpbw7n4DmsLxAm6-sMkg  NEYMAeK1BeR2E_vELnEIDA\n",
       "4      aEZ_EoArhpjV2p0q5MXFMA  Nq0UHjD_cKW9UbIJplQf_g\n",
       "...                       ...                     ...\n",
       "10593  6f2imTsIysASgHh2t91OOQ  Jcyu0ml7rxizEA8giSH-8A\n",
       "10594  lVTn2NO9-FGfxKjfleZUqw  rHKxy2FwlE8xxK9XOpigtQ\n",
       "10595  5m2JukTajxMk-qS5W4s-FA  QWWg3mbz1VkBjfPr0gLRsQ\n",
       "10596  Fgje0saJKZkCByBMj4SlhA  2lCjKqGK2s4FrJVPjJK1fg\n",
       "10597  FyUcIAn8timIFybYpOLbAw  B3GIFj4AzX2JG0XtrtNjVg\n",
       "\n",
       "[10598 rows x 2 columns]"
      ]
     },
     "execution_count": 4,
     "metadata": {},
     "output_type": "execute_result"
    }
   ],
   "source": [
    "dfToEvaluate = pd.DataFrame(edge_subset)\n",
    "dfToEvaluate = dfToEvaluate.rename(columns={0:'venue1',1:'venue2'})\n",
    "dfToEvaluate.to_csv(\"edgesToEvaluateTest.csv\", index_label='linkID')\n",
    "dfToEvaluate"
   ]
  },
  {
   "cell_type": "code",
   "execution_count": 5,
   "metadata": {},
   "outputs": [],
   "source": [
    "# Fazendo previsões com o jaccard\n",
    "pred_jaccard = list(nx.jaccard_coefficient(GMissingEdgesTrain))\n",
    "\n",
    "score_jaccard = [s for (u,v,s) in pred_jaccard]\n",
    "label_jaccard = [(u,v) in edge_subset for (u,v,s) in pred_jaccard]\n",
    "\n",
    "# Computa o AUC score da curva ROC\n",
    "fpr_jaccard, tpr_jaccard, _ = metrics.roc_curve(label_jaccard, score_jaccard)\n",
    "auc_jaccard = roc_auc_score(label_jaccard, score_jaccard)\n",
    "print(auc_jaccard)"
   ]
  },
  {
   "cell_type": "code",
   "execution_count": null,
   "metadata": {},
   "outputs": [],
   "source": [
    "import matplotlib.pyplot as plt\n",
    "plt.title('ROC')\n",
    "plt.plot(fpr_jaccard, tpr_jaccard, 'b', label = 'AUC = %0.2f' % auc_jaccard)\n",
    "plt.legend(loc = 'lower right')\n",
    "plt.plot([0, 1], [0, 1],'r--')\n",
    "plt.xlim([0, 1])\n",
    "plt.ylim([0, 1])\n",
    "plt.ylabel('Taxa Verdadeiro Positivo')\n",
    "plt.xlabel('Taxa de Falso Positivo')\n",
    "plt.show()"
   ]
  }
 ],
 "metadata": {
  "interpreter": {
   "hash": "31f2aee4e71d21fbe5cf8b01ff0e069b9275f58929596ceb00d14d90e3e16cd6"
  },
  "kernelspec": {
   "display_name": "Python 3.6.9 64-bit",
   "language": "python",
   "name": "python3"
  },
  "language_info": {
   "codemirror_mode": {
    "name": "ipython",
    "version": 3
   },
   "file_extension": ".py",
   "mimetype": "text/x-python",
   "name": "python",
   "nbconvert_exporter": "python",
   "pygments_lexer": "ipython3",
   "version": "3.6.9"
  },
  "orig_nbformat": 4
 },
 "nbformat": 4,
 "nbformat_minor": 2
}
